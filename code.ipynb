{
 "cells": [
  {
   "cell_type": "code",
   "execution_count": 2,
   "id": "796c0349-adbe-4da8-b544-1889403ac9b3",
   "metadata": {},
   "outputs": [
    {
     "name": "stdout",
     "output_type": "stream",
     "text": [
      "                                              policy                  industry\n",
      "0  The Department of Energy announced a $3.5 bill...                    Energy\n",
      "1  The FDA issued new guidelines to streamline th...                Healthcare\n",
      "2  The Department of Transportation unveiled a na...            Transportation\n",
      "3  The SEC proposed new rules requiring ESG discl...                   Finance\n",
      "4  The Department of Education launched a grant p...                 Education\n",
      "5  The USDA introduced subsidies for small-scale ...               Agriculture\n",
      "6  The FTC launched an antitrust investigation in...                Technology\n",
      "7  The EPA tightened emissions standards for heav...  Environmental Regulation\n",
      "8  The Department of Commerce provided incentives...             Manufacturing\n",
      "9  The Department of Labor introduced new regulat...        Labor & Employment\n"
     ]
    }
   ],
   "source": [
    "import pandas as pd\n",
    "\n",
    "# examples of 10 policy classification \n",
    "policy_examples = [\n",
    "    {\n",
    "        \"policy\": \"The Department of Energy announced a $3.5 billion investment in carbon capture and storage infrastructure.\",\n",
    "        \"industry\": \"Energy\"\n",
    "    },\n",
    "    {\n",
    "        \"policy\": \"The FDA issued new guidelines to streamline the approval process for AI-powered diagnostic devices.\",\n",
    "        \"industry\": \"Healthcare\"\n",
    "    },\n",
    "    {\n",
    "        \"policy\": \"The Department of Transportation unveiled a national plan to expand electric vehicle (EV) charging stations across all major highways.\",\n",
    "        \"industry\": \"Transportation\"\n",
    "    },\n",
    "    {\n",
    "        \"policy\": \"The SEC proposed new rules requiring ESG disclosures from publicly traded companies.\",\n",
    "        \"industry\": \"Finance\"\n",
    "    },\n",
    "    {\n",
    "        \"policy\": \"The Department of Education launched a grant program to support computer science education in K–12 schools.\",\n",
    "        \"industry\": \"Education\"\n",
    "    },\n",
    "    {\n",
    "        \"policy\": \"The USDA introduced subsidies for small-scale farmers adopting regenerative agriculture practices.\",\n",
    "        \"industry\": \"Agriculture\"\n",
    "    },\n",
    "    {\n",
    "        \"policy\": \"The FTC launched an antitrust investigation into major online advertising platforms.\",\n",
    "        \"industry\": \"Technology\"\n",
    "    },\n",
    "    {\n",
    "        \"policy\": \"The EPA tightened emissions standards for heavy-duty trucks to reduce air pollution.\",\n",
    "        \"industry\": \"Environmental Regulation\"\n",
    "    },\n",
    "    {\n",
    "        \"policy\": \"The Department of Commerce provided incentives for domestic semiconductor manufacturing under the CHIPS Act.\",\n",
    "        \"industry\": \"Manufacturing\"\n",
    "    },\n",
    "    {\n",
    "        \"policy\": \"The Department of Labor introduced new regulations to protect gig economy workers under federal labor laws.\",\n",
    "        \"industry\": \"Labor & Employment\"\n",
    "    }\n",
    "]\n",
    "\n",
    "# turn into dataFrame \n",
    "df = pd.DataFrame(policy_examples)\n",
    "print(df)\n"
   ]
  },
  {
   "cell_type": "code",
   "execution_count": null,
   "id": "a004ed5b-fc04-4e7c-aa25-4904e512f615",
   "metadata": {},
   "outputs": [
    {
     "name": "stdout",
     "output_type": "stream",
     "text": [
      "Requirement already satisfied: openai in /opt/anaconda3/lib/python3.12/site-packages (1.68.2)\n",
      "Collecting openai\n",
      "  Downloading openai-1.93.0-py3-none-any.whl.metadata (29 kB)\n",
      "Requirement already satisfied: anyio<5,>=3.5.0 in /opt/anaconda3/lib/python3.12/site-packages (from openai) (4.2.0)\n",
      "Requirement already satisfied: distro<2,>=1.7.0 in /opt/anaconda3/lib/python3.12/site-packages (from openai) (1.9.0)\n",
      "Requirement already satisfied: httpx<1,>=0.23.0 in /opt/anaconda3/lib/python3.12/site-packages (from openai) (0.27.0)\n",
      "Requirement already satisfied: jiter<1,>=0.4.0 in /opt/anaconda3/lib/python3.12/site-packages (from openai) (0.9.0)\n",
      "Requirement already satisfied: pydantic<3,>=1.9.0 in /opt/anaconda3/lib/python3.12/site-packages (from openai) (2.8.2)\n",
      "Requirement already satisfied: sniffio in /opt/anaconda3/lib/python3.12/site-packages (from openai) (1.3.0)\n",
      "Requirement already satisfied: tqdm>4 in /opt/anaconda3/lib/python3.12/site-packages (from openai) (4.66.5)\n",
      "Requirement already satisfied: typing-extensions<5,>=4.11 in /opt/anaconda3/lib/python3.12/site-packages (from openai) (4.11.0)\n",
      "Requirement already satisfied: idna>=2.8 in /opt/anaconda3/lib/python3.12/site-packages (from anyio<5,>=3.5.0->openai) (3.7)\n",
      "Requirement already satisfied: certifi in /opt/anaconda3/lib/python3.12/site-packages (from httpx<1,>=0.23.0->openai) (2025.1.31)\n",
      "Requirement already satisfied: httpcore==1.* in /opt/anaconda3/lib/python3.12/site-packages (from httpx<1,>=0.23.0->openai) (1.0.2)\n",
      "Requirement already satisfied: h11<0.15,>=0.13 in /opt/anaconda3/lib/python3.12/site-packages (from httpcore==1.*->httpx<1,>=0.23.0->openai) (0.14.0)\n",
      "Requirement already satisfied: annotated-types>=0.4.0 in /opt/anaconda3/lib/python3.12/site-packages (from pydantic<3,>=1.9.0->openai) (0.6.0)\n",
      "Requirement already satisfied: pydantic-core==2.20.1 in /opt/anaconda3/lib/python3.12/site-packages (from pydantic<3,>=1.9.0->openai) (2.20.1)\n",
      "Downloading openai-1.93.0-py3-none-any.whl (755 kB)\n",
      "\u001b[2K   \u001b[90m━━━━━━━━━━━━━━━━━━━━━━━━━━━━━━━━━━━━━━━━\u001b[0m \u001b[32m755.0/755.0 kB\u001b[0m \u001b[31m4.2 MB/s\u001b[0m eta \u001b[36m0:00:00\u001b[0m\n",
      "Installing collected packages: openai\n",
      "  Attempting uninstall: openai\n",
      "    Found existing installation: openai 1.68.2\n",
      "    Uninstalling openai-1.68.2:\n",
      "      Successfully uninstalled openai-1.68.2\n",
      "Successfully installed openai-1.93.0\n"
     ]
    }
   ],
   "source": [
    "!pip install --upgrade openai\n",
    "from openai import OpenAI\n",
    "\n",
    "client = OpenAI(api_key=\"sk-proj-xxxx\")\n",
    "# You can change the API key to your own's"
   ]
  },
  {
   "cell_type": "code",
   "execution_count": null,
   "id": "d048921d-81c2-446e-ac03-df769a91f677",
   "metadata": {},
   "outputs": [
    {
     "name": "stdout",
     "output_type": "stream",
     "text": [
      "✅ Classification complete! Results saved to classified_policies.csv\n",
      "                                              policy        predicted_industry\n",
      "0  The FAA will increase cybersecurity standards ...            Transportation\n",
      "1  The SEC will allow private equity firms more f...                   Finance\n",
      "2  The Department of Energy plans to invest in sm...                    Energy\n",
      "3  The Department of Education expands funding fo...                 Education\n",
      "4  The CDC launched a program to improve public h...                Healthcare\n",
      "5  The USDA promotes organic farming through new ...               Agriculture\n",
      "6  The Department of Transportation funds smart t...            Transportation\n",
      "7  The Department of Commerce invests in AI-power...             Manufacturing\n",
      "8  The EPA updates national air quality standards...  Environmental Regulation\n",
      "9  The Department of Labor proposes protections f...        Labor & Employment\n"
     ]
    }
   ],
   "source": [
    "import time\n",
    "# Build GPT Prompt\n",
    "def build_prompt(policy_text):\n",
    "    prompt = \"Please classify the following U.S. policy text into the most relevant industry sector.\\n\\n\"\n",
    "    for ex in policy_examples:\n",
    "        prompt += f\"Example:\\nPolicy: {ex['policy']}\\nIndustry: {ex['industry']}\\n\\n\"\n",
    "    prompt += f\"Now classify this policy:\\nPolicy: {policy_text}\\nIndustry:\"\n",
    "    return prompt\n",
    "\n",
    "# GPT Classification Function\n",
    "def classify_policy(policy_text):\n",
    "    prompt = build_prompt(policy_text)\n",
    "    try:\n",
    "        response = client.chat.completions.create(\n",
    "            model=\"gpt-4\", \n",
    "            messages=[{\"role\": \"user\", \"content\": prompt}],\n",
    "            temperature=0\n",
    "        )\n",
    "        return response.choices[0].message.content.strip()\n",
    "    except Exception as e:\n",
    "        print(f\"Error: {e}\")\n",
    "        return \"ERROR\"\n",
    "\n",
    "\n",
    "# Unlabeled Policies\n",
    "policies = [\n",
    "    \"The FAA will increase cybersecurity standards for commercial drones.\",\n",
    "    \"The SEC will allow private equity firms more flexibility in ESG disclosures.\",\n",
    "    \"The Department of Energy plans to invest in small-scale nuclear reactors.\",\n",
    "    \"The Department of Education expands funding for STEM education in rural schools.\",\n",
    "    \"The CDC launched a program to improve public health data interoperability across states.\",\n",
    "    \"The USDA promotes organic farming through new subsidy programs.\",\n",
    "    \"The Department of Transportation funds smart traffic management pilot programs.\",\n",
    "    \"The Department of Commerce invests in AI-powered manufacturing facilities.\",\n",
    "    \"The EPA updates national air quality standards for ground-level ozone.\",\n",
    "    \"The Department of Labor proposes protections for warehouse workers against heat stress.\"\n",
    "]\n",
    "\n",
    "# Build DataFrame and Classify\n",
    "df = pd.DataFrame(policies, columns=[\"policy\"])\n",
    "df[\"predicted_industry\"] = df[\"policy\"].apply(classify_policy)\n",
    "\n",
    "# Save as CSV\n",
    "df.to_csv(\"classified_policies.csv\", index=False)\n",
    "print(\"✅ Classification complete! Results saved to classified_policies.csv\")\n",
    "\n",
    "# Visualization\n",
    "print(df)"
   ]
  },
  {
   "cell_type": "code",
   "execution_count": null,
   "id": "5338f5cd-3184-471f-8406-1509845bac6e",
   "metadata": {},
   "outputs": [],
   "source": [
    "# Add ground truth\n",
    "df[\"true_industry\"] = [\n",
    "    \"Transportation\",\n",
    "    \"Finance\",\n",
    "    \"Energy\",\n",
    "    \"Education\",\n",
    "    \"Healthcare\",\n",
    "    \"Agriculture\",\n",
    "    \"Transportation\",\n",
    "    \"Manufacturing\",\n",
    "    \"Environmental Regulation\",\n",
    "    \"Labor & Employment\"\n",
    "]"
   ]
  },
  {
   "cell_type": "code",
   "execution_count": 23,
   "id": "c5b143d0-63bd-4bf8-bfeb-a0cb1de12ad4",
   "metadata": {},
   "outputs": [],
   "source": [
    "df[\"correct\"] = (\n",
    "    df[\"predicted_industry\"].str.strip().str.lower()\n",
    "    == df[\"true_industry\"].str.strip().str.lower()\n",
    ")"
   ]
  },
  {
   "cell_type": "code",
   "execution_count": 26,
   "id": "ce28b3f7-6f29-49e2-ae3d-368753f50cf5",
   "metadata": {},
   "outputs": [
    {
     "name": "stdout",
     "output_type": "stream",
     "text": [
      "                                              policy  \\\n",
      "0  The FAA will increase cybersecurity standards ...   \n",
      "1  The SEC will allow private equity firms more f...   \n",
      "2  The Department of Energy plans to invest in sm...   \n",
      "3  The Department of Education expands funding fo...   \n",
      "4  The CDC launched a program to improve public h...   \n",
      "5  The USDA promotes organic farming through new ...   \n",
      "6  The Department of Transportation funds smart t...   \n",
      "7  The Department of Commerce invests in AI-power...   \n",
      "8  The EPA updates national air quality standards...   \n",
      "9  The Department of Labor proposes protections f...   \n",
      "\n",
      "         predicted_industry             true_industry  correct  \n",
      "0            Transportation            Transportation     True  \n",
      "1                   Finance                   Finance     True  \n",
      "2                    Energy                    Energy     True  \n",
      "3                 Education                 Education     True  \n",
      "4                Healthcare                Healthcare     True  \n",
      "5               Agriculture               Agriculture     True  \n",
      "6            Transportation            Transportation     True  \n",
      "7             Manufacturing             Manufacturing     True  \n",
      "8  Environmental Regulation  Environmental Regulation     True  \n",
      "9        Labor & Employment        Labor & Employment     True  \n"
     ]
    }
   ],
   "source": [
    "print(df[[\"policy\", \"predicted_industry\", \"true_industry\", \"correct\"]])"
   ]
  },
  {
   "cell_type": "code",
   "execution_count": 37,
   "id": "06bf74ba-79f1-41ef-9fef-21c287fa0744",
   "metadata": {},
   "outputs": [
    {
     "data": {
      "image/png": "[encoded data removed]",
      "text/plain": [
       "<Figure size 640x480 with 1 Axes>"
      ]
     },
     "metadata": {},
     "output_type": "display_data"
    }
   ],
   "source": [
    "import seaborn as sns\n",
    "import matplotlib.pyplot as plt\n",
    "\n",
    "# Get value counts and ensure both True/False are represented\n",
    "correct_counts = df[\"correct\"].astype(int).value_counts().reindex([1, 0], fill_value=0)\n",
    "\n",
    "# Create the plot with proper hue assignment\n",
    "sns.barplot(x=correct_counts.index, \n",
    "            y=correct_counts.values, \n",
    "            hue=correct_counts.index,  # Assign hue to x values\n",
    "            palette=[\"red\", \"green\"],\n",
    "            legend=False)  # Disable legend since we're using direct labels\n",
    "\n",
    "plt.title(\"Classification Accuracy\")\n",
    "plt.xticks([0, 1], [\"False\", \"True\"])\n",
    "plt.xlabel(\"Prediction Correct?\")\n",
    "plt.ylabel(\"Count\")\n",
    "\n",
    "# Add value labels on top of bars\n",
    "for i, count in enumerate(correct_counts):\n",
    "    plt.text(i, count + 0.1, str(count), ha='center')\n",
    "\n",
    "plt.show()"
   ]
  },
  {
   "cell_type": "code",
   "execution_count": null,
   "id": "6099ecc6-258f-4e88-add7-53371ef9f157",
   "metadata": {},
   "outputs": [],
   "source": []
  }
 ],
 "metadata": {
  "kernelspec": {
   "display_name": "Python 3 (ipykernel)",
   "language": "python",
   "name": "python3"
  },
  "language_info": {
   "codemirror_mode": {
    "name": "ipython",
    "version": 3
   },
   "file_extension": ".py",
   "mimetype": "text/x-python",
   "name": "python",
   "nbconvert_exporter": "python",
   "pygments_lexer": "ipython3",
   "version": "3.12.2"
  }
 },
 "nbformat": 4,
 "nbformat_minor": 5
}
